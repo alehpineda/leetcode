{
  "nbformat": 4,
  "nbformat_minor": 0,
  "metadata": {
    "colab": {
      "name": "00026_Remove_duplicates_from_Sorted_Array.ipynb",
      "provenance": [],
      "include_colab_link": true
    },
    "kernelspec": {
      "name": "python3",
      "display_name": "Python 3"
    }
  },
  "cells": [
    {
      "cell_type": "markdown",
      "metadata": {
        "id": "view-in-github",
        "colab_type": "text"
      },
      "source": [
        "<a href=\"https://colab.research.google.com/github/alehpineda/leetcode/blob/master/00026_Remove_duplicates_from_Sorted_Array.ipynb\" target=\"_parent\"><img src=\"https://colab.research.google.com/assets/colab-badge.svg\" alt=\"Open In Colab\"/></a>"
      ]
    },
    {
      "cell_type": "markdown",
      "metadata": {
        "id": "h99xpdnRjIcd",
        "colab_type": "text"
      },
      "source": [
        "Given a sorted array nums, remove the duplicates in-place such that each element appear only once and return the new length.\n",
        "\n",
        "Do not allocate extra space for another array, you must do this by modifying the input array in-place with O(1) extra memory.\n",
        "\n",
        "- Example 1:\n",
        "\n",
        "Given nums = [1,1,2],\n",
        "\n",
        "Your function should return length = 2, with the first two elements of nums being 1 and 2 respectively.\n",
        "\n",
        "It doesn't matter what you leave beyond the returned length.\n",
        "\n",
        "- Example 2:\n",
        "\n",
        "Given nums = [0,0,1,1,1,2,2,3,3,4],\n",
        "\n",
        "Your function should return length = 5, with the first five elements of nums being modified to 0, 1, 2, 3, and 4 respectively.\n",
        "\n",
        "It doesn't matter what values are set beyond the returned length.\n",
        "\n",
        "### Clarification:\n",
        "\n",
        "Confused why the returned value is an integer but your answer is an array?\n",
        "\n",
        "Note that the input array is passed in by reference, which means modification to the input array will be known to the caller as well.\n",
        "\n",
        "Internally you can think of this:\n",
        "```c\n",
        "// nums is passed in by reference. (i.e., without making a copy)\n",
        "int len = removeDuplicates(nums);\n",
        "\n",
        "// any modification to nums in your function would be known by the caller.\n",
        "// using the length returned by your function, it prints the first len elements.\n",
        "for (int i = 0; i < len; i++) {\n",
        "    print(nums[i]);\n",
        "}\n",
        "```\n",
        "\n"
      ]
    },
    {
      "cell_type": "code",
      "metadata": {
        "id": "mducPGVyi_r5",
        "colab_type": "code",
        "colab": {}
      },
      "source": [
        "# 1st iteration\n",
        "from typing import  List\n",
        "\n",
        "class Solution:\n",
        "  def removeDuplicates(self, nums: List[int]) -> int:\n",
        "    # start counters\n",
        "    L, j = len(nums), 0\n",
        "    # if len < 2 return len\n",
        "    if L in [0,1]: \n",
        "      return L\n",
        "    \n",
        "    for i in range(L-1):\n",
        "      if nums[i] != nums[i+1]: \n",
        "        nums[j], j = nums[i], j + 1\n",
        "    \n",
        "    nums[j] = nums[-1]\n",
        "    \n",
        "    return j + 1\n",
        "\n",
        "  def removeDuplicates2(self, nums: List[int]) -> int:\n",
        "    return len(list(set(nums)))\n",
        "\n"
      ],
      "execution_count": 0,
      "outputs": []
    },
    {
      "cell_type": "code",
      "metadata": {
        "id": "ja3bcSL-j6r1",
        "colab_type": "code",
        "colab": {
          "base_uri": "https://localhost:8080/",
          "height": 85
        },
        "outputId": "c9b155e3-5949-43e2-a409-8aeff85118d8"
      },
      "source": [
        "nums = [1,1,2]\n",
        "nums2 = [0,0,1,1,1,2,2,3,3,4]\n",
        "\n",
        "sol = Solution()\n",
        "print(sol.removeDuplicates(nums))\n",
        "print(sol.removeDuplicates(nums2))\n",
        "\n",
        "len_1 = sol.removeDuplicates(nums)\n",
        "len_2 = sol.removeDuplicates2(nums)\n",
        "\n",
        "for e in range(len_1):\n",
        "  print(nums[e])\n"
      ],
      "execution_count": 17,
      "outputs": [
        {
          "output_type": "stream",
          "text": [
            "2\n",
            "5\n",
            "1\n",
            "2\n"
          ],
          "name": "stdout"
        }
      ]
    },
    {
      "cell_type": "code",
      "metadata": {
        "id": "q8u5nx_wq056",
        "colab_type": "code",
        "colab": {}
      },
      "source": [
        ""
      ],
      "execution_count": 0,
      "outputs": []
    }
  ]
}