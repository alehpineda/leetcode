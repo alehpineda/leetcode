{
  "nbformat": 4,
  "nbformat_minor": 0,
  "metadata": {
    "colab": {
      "name": "00070_Climbing_Stairs.ipynb",
      "provenance": [],
      "collapsed_sections": [],
      "include_colab_link": true
    },
    "kernelspec": {
      "name": "python3",
      "display_name": "Python 3"
    }
  },
  "cells": [
    {
      "cell_type": "markdown",
      "metadata": {
        "id": "view-in-github",
        "colab_type": "text"
      },
      "source": [
        "<a href=\"https://colab.research.google.com/github/alehpineda/leetcode/blob/master/00070_Climbing_Stairs.ipynb\" target=\"_parent\"><img src=\"https://colab.research.google.com/assets/colab-badge.svg\" alt=\"Open In Colab\"/></a>"
      ]
    },
    {
      "cell_type": "markdown",
      "metadata": {
        "id": "xoGTMLMpH1f_",
        "colab_type": "text"
      },
      "source": [
        "You are climbing a stair case. It takes n steps to reach to the top.\n",
        "\n",
        "Each time you can either climb 1 or 2 steps. In how many distinct ways can you climb to the top?\n",
        "\n",
        "Note: Given n will be a positive integer.\n",
        "\n",
        "- Example 1:\n",
        "\n",
        "  - Input: 2\n",
        "  - Output: 2\n",
        "\n",
        "Explanation: There are two ways to climb to the top.\n",
        "1. 1 step + 1 step\n",
        "2. 2 steps\n",
        "\n",
        "- Example 2:\n",
        "\n",
        "  - Input: 3\n",
        "  - Output: 3\n",
        "\n",
        "Explanation: There are three ways to climb to the top.\n",
        "1. 1 step + 1 step + 1 step\n",
        "2. 1 step + 2 steps\n",
        "3. 2 steps + 1 step\n"
      ]
    },
    {
      "cell_type": "code",
      "metadata": {
        "id": "AgTn-82kHshW",
        "colab_type": "code",
        "colab": {}
      },
      "source": [
        "# first iteration\n",
        "# problem similar to fibonaci series\n",
        "# ways(n) = ways(n-1) + ways(n-2)\n",
        "# Using dynamic programing cuz recursive takes too much time\n",
        "# FibArray starts with first two fibonacci numbers [1,1]\n",
        "\n",
        "class Solution:\n",
        "    FibArray = [1, 1]\n",
        "\n",
        "    def climbStairs(self, n: int) -> int:\n",
        "        return self.fibonacci(n + 1)\n",
        "\n",
        "    def fibonacci(self, n: int) -> int:\n",
        "        if n<0: \n",
        "            raise ValueError(\"Incorrect input\")\n",
        "\n",
        "        elif n <= len(self.FibArray):\n",
        "            return self.FibArray[n-1]\n",
        "        \n",
        "        else:\n",
        "            temp_fib = self.fibonacci(n-1) + self.fibonacci(n-2) \n",
        "            self.FibArray.append(temp_fib)\n",
        "            return temp_fib\n"
      ],
      "execution_count": 0,
      "outputs": []
    },
    {
      "cell_type": "code",
      "metadata": {
        "colab_type": "code",
        "outputId": "fe358ae5-1c1e-496b-dff2-c801cf13f032",
        "id": "1TKspAy_SAqB",
        "colab": {
          "base_uri": "https://localhost:8080/",
          "height": 102
        }
      },
      "source": [
        "sol = Solution()\n",
        "\n",
        "print(sol.climbStairs(2))\n",
        "print(sol.climbStairs(3))\n",
        "print(sol.climbStairs(8))\n",
        "print(sol.climbStairs(9))\n",
        "print(sol.climbStairs(35))"
      ],
      "execution_count": 0,
      "outputs": [
        {
          "output_type": "stream",
          "text": [
            "2\n",
            "3\n",
            "34\n",
            "55\n",
            "14930352\n"
          ],
          "name": "stdout"
        }
      ]
    }
  ]
}