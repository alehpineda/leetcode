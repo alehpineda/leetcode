{
  "nbformat": 4,
  "nbformat_minor": 0,
  "metadata": {
    "colab": {
      "name": "00021_Merge_two_sorted_linked_list.ipynb",
      "provenance": [],
      "include_colab_link": true
    },
    "kernelspec": {
      "name": "python3",
      "display_name": "Python 3"
    }
  },
  "cells": [
    {
      "cell_type": "markdown",
      "metadata": {
        "id": "view-in-github",
        "colab_type": "text"
      },
      "source": [
        "<a href=\"https://colab.research.google.com/github/alehpineda/leetcode/blob/master/00021_Merge_two_sorted_linked_list.ipynb\" target=\"_parent\"><img src=\"https://colab.research.google.com/assets/colab-badge.svg\" alt=\"Open In Colab\"/></a>"
      ]
    },
    {
      "cell_type": "markdown",
      "metadata": {
        "id": "1N-QURgHYCSx",
        "colab_type": "text"
      },
      "source": [
        "Merge two sorted linked lists and return it as a new list. The new list should be made by splicing together the nodes of the first two lists.\n",
        "\n",
        "- Example:\n",
        "\n",
        "  - Input: \n",
        "\n",
        "    - 1->2->4, \n",
        "\n",
        "    - 1->3->4\n",
        "\n",
        "  - Output: \n",
        "\n",
        "    - 1->1->2->3->4->4"
      ]
    },
    {
      "cell_type": "code",
      "metadata": {
        "id": "SE3dESIqX3aN",
        "colab_type": "code",
        "colab": {}
      },
      "source": [
        "# 1st iteration\n",
        "# Definition for singly-linked list.\n",
        "class ListNode:\n",
        "  def __init__(self, x):\n",
        "    self.val = x\n",
        "    self.next = None\n",
        "  \n",
        "  def traverse(self):\n",
        "      node = self # start from the head node\n",
        "      while node != None:\n",
        "          print(node.val) # access the node value\n",
        "          node = node.next # move on to the next node\n",
        "\n",
        "\n",
        "class Solution:\n",
        "    def mergeTwoLists(self, l1: ListNode, l2: ListNode) -> ListNode:\n",
        "        # return new merged list sorted,\n",
        "        return self.merge_by_newlist(l1,l2)\n",
        "    \n",
        "    def merge_by_newlist(self, node_1, node_2):\n",
        "        # if empty lists\n",
        "        new_list = ListNode(0)\n",
        "        \n",
        "        if None == node_1:\n",
        "            new_list.next = node_2\n",
        "            return new_list.next\n",
        "            \n",
        "        elif None == node_2:\n",
        "            new_list.next = node_1\n",
        "            return new_list.next\n",
        "        \n",
        "        # if list with values\n",
        "        if node_1.val <= node_2.val:\n",
        "            startNode = ListNode(node_1.val)\n",
        "            node_1 = node_1.next\n",
        "        else:\n",
        "            startNode = ListNode(node_2.val)\n",
        "            node_2 = node_2.next\n",
        "\n",
        "        em = startNode\n",
        "        # If both list have values\n",
        "        while node_1 is not None and node_2 is not None:\n",
        "            if node_1.val <= node_2.val:\n",
        "                em.next = ListNode(node_1.val)\n",
        "                node_1 = node_1.next\n",
        "            else:\n",
        "                em.next = ListNode(node_2.val)\n",
        "                node_2 = node_2.next\n",
        "            em = em.next\n",
        "        # if second node is empty\n",
        "        while node_1 is not None:\n",
        "            em.next = ListNode(node_1.val)\n",
        "            node_1 = node_1.next\n",
        "            em = em.next\n",
        "        # if first node is empty\n",
        "        while node_2 is not None:\n",
        "            em.next = ListNode(node_2.val)\n",
        "            node_2 = node_2.next\n",
        "            em = em.next\n",
        "\n",
        "        return startNode\n"
      ],
      "execution_count": 0,
      "outputs": []
    },
    {
      "cell_type": "code",
      "metadata": {
        "id": "y_X4oR6uZNI0",
        "colab_type": "code",
        "colab": {
          "base_uri": "https://localhost:8080/",
          "height": 204
        },
        "outputId": "1d40702f-660c-4829-fb9d-23567d0dd6af"
      },
      "source": [
        "# sort a listnode\n",
        "def bub_sort_datachange(node):\n",
        "  end = None\n",
        "  while end != node:\n",
        "      p = node\n",
        "      while p.next != end:\n",
        "          q = p.next\n",
        "          if p.val > q.val:\n",
        "              p.val, q.val = q.val, p.val\n",
        "          p = p.next\n",
        "      end = p\n",
        "\n",
        "# List 1\n",
        "node1 = ListNode(8)\n",
        "node2 = ListNode(7)\n",
        "node3 = ListNode(1)\n",
        "node4 = ListNode(6)\n",
        "node5 = ListNode(9)\n",
        "\n",
        "node1.next = node2\n",
        "node2.next = node3\n",
        "node3.next = node4\n",
        "node4.next = node5\n",
        "\n",
        "# list 2\n",
        "node6 = ListNode(18)\n",
        "node7 = ListNode(17)\n",
        "node8 = ListNode(11)\n",
        "node9 = ListNode(16)\n",
        "node10 = ListNode(19)\n",
        "\n",
        "node6.next = node7\n",
        "node7.next = node8\n",
        "node8.next = node9\n",
        "node9.next = node10\n",
        "\n",
        "sol = Solution()\n",
        "new_node = sol.merge_by_newlist(node1, node6)\n",
        "bub_sort_datachange(new_node)\n",
        "print(new_node.traverse())"
      ],
      "execution_count": 7,
      "outputs": [
        {
          "output_type": "stream",
          "text": [
            "1\n",
            "6\n",
            "7\n",
            "8\n",
            "9\n",
            "11\n",
            "16\n",
            "17\n",
            "18\n",
            "19\n",
            "None\n"
          ],
          "name": "stdout"
        }
      ]
    },
    {
      "cell_type": "code",
      "metadata": {
        "id": "dgJGa08XbfnP",
        "colab_type": "code",
        "colab": {}
      },
      "source": [
        ""
      ],
      "execution_count": 0,
      "outputs": []
    }
  ]
}