{
  "nbformat": 4,
  "nbformat_minor": 0,
  "metadata": {
    "colab": {
      "name": "00009_Palindrome_number.ipynb",
      "provenance": [],
      "include_colab_link": true
    },
    "kernelspec": {
      "name": "python3",
      "display_name": "Python 3"
    }
  },
  "cells": [
    {
      "cell_type": "markdown",
      "metadata": {
        "id": "view-in-github",
        "colab_type": "text"
      },
      "source": [
        "<a href=\"https://colab.research.google.com/github/alehpineda/leetcode/blob/master/00009_Palindrome_number.ipynb\" target=\"_parent\"><img src=\"https://colab.research.google.com/assets/colab-badge.svg\" alt=\"Open In Colab\"/></a>"
      ]
    },
    {
      "cell_type": "markdown",
      "metadata": {
        "id": "kCJ_NXUzW3gn",
        "colab_type": "text"
      },
      "source": [
        "Determine whether an integer is a palindrome. An integer is a palindrome when it reads the same backward as forward.\n",
        "\n",
        "- Example 1:\n",
        "\n",
        "  - Input: 121\n",
        "  - Output: true\n",
        "\n",
        "- Example 2:\n",
        "\n",
        "  - Input: -121\n",
        "  - Output: false\n",
        "\n",
        "- Explanation: \n",
        "\n",
        "From left to right, it reads -121. From right to left, it becomes 121-. Therefore it is not a palindrome.\n",
        "\n",
        "- Example 3:\n",
        "\n",
        "  - Input: 10\n",
        "  - Output: false\n",
        "\n",
        "- Explanation: \n",
        "\n",
        "Reads 01 from right to left. Therefore it is not a palindrome.\n",
        "\n",
        "Follow up:\n",
        "\n",
        "Coud you solve it without converting the integer to a string?\n"
      ]
    },
    {
      "cell_type": "code",
      "metadata": {
        "id": "Sx-uS6JEWozB",
        "colab_type": "code",
        "outputId": "be7b8c8d-9a4d-4133-eb5c-e967b3faf0bc",
        "colab": {
          "base_uri": "https://localhost:8080/",
          "height": 85
        }
      },
      "source": [
        "# Converting the int to string then comparing it to the reverse list\n",
        "# 1st iteration\n",
        "class Solution:\n",
        "    def isPalindrome(self, x: int) -> bool:\n",
        "        if x < 0:\n",
        "          return False\n",
        "        return str(x) == str(x)[::-1]\n",
        "\n",
        "sol = Solution()\n",
        "print(sol.isPalindrome(121))\n",
        "print(sol.isPalindrome(-123))\n",
        "print(sol.isPalindrome(0))\n",
        "print(sol.isPalindrome(20))"
      ],
      "execution_count": 0,
      "outputs": [
        {
          "output_type": "stream",
          "text": [
            "True\n",
            "False\n",
            "True\n",
            "False\n"
          ],
          "name": "stdout"
        }
      ]
    },
    {
      "cell_type": "code",
      "metadata": {
        "id": "wgLqn2oiXXEm",
        "colab_type": "code",
        "outputId": "1e2e0aef-9de2-4aa9-c873-0034e4f5e7c3",
        "colab": {
          "base_uri": "https://localhost:8080/",
          "height": 85
        }
      },
      "source": [
        "# Converting the int to string then comparing it to the reverse list\n",
        "# 2nd iteration\n",
        "class Solution:\n",
        "    def isPalindrome(self, x: int) -> bool:\n",
        "        if x < 0:\n",
        "          return False\n",
        "        return str(x) == str(x)[::-1]\n",
        "\n",
        "sol = Solution()\n",
        "print(sol.isPalindrome(121))\n",
        "print(sol.isPalindrome(-123))\n",
        "print(sol.isPalindrome(0))\n",
        "print(sol.isPalindrome(20))"
      ],
      "execution_count": 0,
      "outputs": [
        {
          "output_type": "stream",
          "text": [
            "True\n",
            "False\n",
            "True\n",
            "False\n"
          ],
          "name": "stdout"
        }
      ]
    },
    {
      "cell_type": "code",
      "metadata": {
        "id": "ZE2NLxrrZMog",
        "colab_type": "code",
        "outputId": "ef3fb14a-92c7-42bd-c524-0bc6752540f4",
        "colab": {
          "base_uri": "https://localhost:8080/",
          "height": 85
        }
      },
      "source": [
        "# Without using str conversion\n",
        "class Solution:\n",
        "    def isPalindrome(self, x: int) -> bool:\n",
        "        # Negative number\n",
        "        if x < 0:\n",
        "            return False\n",
        "        # Zero\n",
        "        if x == 0:\n",
        "            return True\n",
        "        # Start empty list\n",
        "        k = []\n",
        "        \n",
        "        while x > 0:\n",
        "            # Append the module of x divided by 10\n",
        "            k.append(x % 10)\n",
        "            # New x is floor division of x divided by 10\n",
        "            x = x // 10\n",
        "        # Return comparation between k and reverse k\n",
        "        return k == k[::-1]\n",
        "\n",
        "sol = Solution()\n",
        "print(sol.isPalindrome(121))\n",
        "print(sol.isPalindrome(-123))\n",
        "print(sol.isPalindrome(0))\n",
        "print(sol.isPalindrome(20))\n"
      ],
      "execution_count": 0,
      "outputs": [
        {
          "output_type": "stream",
          "text": [
            "True\n",
            "False\n",
            "True\n",
            "False\n"
          ],
          "name": "stdout"
        }
      ]
    },
    {
      "cell_type": "code",
      "metadata": {
        "id": "xGHvDDEzbrXF",
        "colab_type": "code",
        "colab": {}
      },
      "source": [
        ""
      ],
      "execution_count": 0,
      "outputs": []
    }
  ]
}