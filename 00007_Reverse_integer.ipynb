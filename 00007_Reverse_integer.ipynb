{
  "nbformat": 4,
  "nbformat_minor": 0,
  "metadata": {
    "colab": {
      "name": "00007_Reverse_integer.ipynb",
      "provenance": [],
      "include_colab_link": true
    },
    "kernelspec": {
      "name": "python3",
      "display_name": "Python 3"
    }
  },
  "cells": [
    {
      "cell_type": "markdown",
      "metadata": {
        "id": "view-in-github",
        "colab_type": "text"
      },
      "source": [
        "<a href=\"https://colab.research.google.com/github/alehpineda/leetcode/blob/master/00007_Reverse_integer.ipynb\" target=\"_parent\"><img src=\"https://colab.research.google.com/assets/colab-badge.svg\" alt=\"Open In Colab\"/></a>"
      ]
    },
    {
      "cell_type": "markdown",
      "metadata": {
        "id": "b8Ls4hEBAjUh",
        "colab_type": "text"
      },
      "source": [
        "Given a 32-bit signed integer, reverse digits of an integer.\n",
        "\n",
        "- Example 1:\n",
        "\n",
        "  - Input: 123\n",
        "  - Output: 321\n",
        "\n",
        "- Example 2:\n",
        "\n",
        "  - Input: -123\n",
        "  - Output: -321\n",
        "\n",
        "- Example 3:\n",
        "\n",
        "  - Input: 120\n",
        "  - Output: 21\n",
        "\n",
        "Note:\n",
        "\n",
        "Assume we are dealing with an environment which could only store integers within the 32-bit signed integer range: [−231,  231 − 1]. For the purpose of this problem, assume that your function returns 0 when the reversed integer overflows."
      ]
    },
    {
      "cell_type": "code",
      "metadata": {
        "id": "RpQfd9mQAes9",
        "colab_type": "code",
        "outputId": "f33b29bc-dbad-49f4-e4ba-e28a32826145",
        "colab": {
          "base_uri": "https://localhost:8080/",
          "height": 119
        }
      },
      "source": [
        "class Solution:\n",
        "    def reverse(self, x: int) -> int:\n",
        "      try:\n",
        "        # list comprehension of the absolute of x as string\n",
        "        x_list = [e for e in str(abs(x))]\n",
        "        # reverse the string list\n",
        "        x_list = x_list[::-1]\n",
        "        # if the integer is positive        \n",
        "        if x >= 0:\n",
        "          # Join the string list as an int\n",
        "          x_list = int(\"\".join(x_list))\n",
        "          # Return the reverse integer\n",
        "          return x_list\n",
        "        else:\n",
        "          # If is a negative number add '-' at the beggining\n",
        "          x_list.insert(0, '-')\n",
        "          # Join the string list as an int        \n",
        "          x_list = int(\"\".join(x_list))\n",
        "          # Return the reverse negative integer\n",
        "          return x_list\n",
        "      # Catch OverflowError\n",
        "      except OverflowError:\n",
        "        # Return 0 if the integer overflows\n",
        "        return 0\n",
        "      \n",
        "sol = Solution()\n",
        "\n",
        "print(sol.reverse(123))\n",
        "print(sol.reverse(-123))\n",
        "print(sol.reverse(120))\n",
        "print(sol.reverse(-1023))\n",
        "print(sol.reverse(1023))\n",
        "print(sol.reverse(-1200))"
      ],
      "execution_count": 0,
      "outputs": [
        {
          "output_type": "stream",
          "text": [
            "321\n",
            "-321\n",
            "21\n",
            "-3201\n",
            "3201\n",
            "-21\n"
          ],
          "name": "stdout"
        }
      ]
    },
    {
      "cell_type": "code",
      "metadata": {
        "id": "r6LdqzLrBQoW",
        "colab_type": "code",
        "outputId": "9da259c5-e137-4882-a327-bfcdc71a28ae",
        "colab": {
          "base_uri": "https://localhost:8080/",
          "height": 153
        }
      },
      "source": [
        "# 2 iteration\n",
        "class Solution:\n",
        "    def reverse(self, x: int) -> int:\n",
        "      if x in range(-2**31, 2**31 - 1):\n",
        "        # list comprehension of the absolute of x as string\n",
        "        x_list = [e for e in str(abs(x))]\n",
        "        # reverse the string list\n",
        "        x_list = x_list[::-1]\n",
        "        # if the integer is positive        \n",
        "        if x >= 0:\n",
        "          # Join the string list as an int\n",
        "          x_list = int(\"\".join(x_list))\n",
        "          # Return the reverse integer\n",
        "          return x_list\n",
        "        else:\n",
        "          # If is a negative number add '-' at the beggining\n",
        "          x_list.insert(0, '-')\n",
        "          # Join the string list as an int        \n",
        "          x_list = int(\"\".join(x_list))\n",
        "          # Return the reverse negative integer\n",
        "          return x_list\n",
        "      # Catch OverflowError\n",
        "      else:\n",
        "        # Return 0 if the integer overflows\n",
        "        return 0\n",
        "      \n",
        "sol = Solution()\n",
        "\n",
        "print(sol.reverse(123))\n",
        "print(sol.reverse(-123))\n",
        "print(sol.reverse(120))\n",
        "print(sol.reverse(-1023))\n",
        "print(sol.reverse(1023))\n",
        "print(sol.reverse(1534236469))\n"
      ],
      "execution_count": 0,
      "outputs": [
        {
          "output_type": "stream",
          "text": [
            "321\n",
            "-321\n",
            "21\n",
            "-3201\n",
            "3201\n",
            "9646324351\n",
            "2147483648\n",
            "2147483647\n"
          ],
          "name": "stdout"
        }
      ]
    },
    {
      "cell_type": "code",
      "metadata": {
        "id": "tPT1aZ70LeIZ",
        "colab_type": "code",
        "outputId": "faa9cc82-cc7d-4a97-91ff-83183db1c0f6",
        "colab": {
          "base_uri": "https://localhost:8080/",
          "height": 153
        }
      },
      "source": [
        "# 3 iteration\n",
        "class Solution:\n",
        "    def reverse(self, x: int) -> int:\n",
        "    # positive numbers  \n",
        "        if x >= 0:\n",
        "            # cast x as str then reverse it and cast it again as int\n",
        "            i =  int(str(x)[::-1])\n",
        "        # negative numbers  \n",
        "        if x < 0:\n",
        "            # cast the abs of x as str then reverse it and cast it again as int\n",
        "            # then multiply by -1\n",
        "            i = -1 * int(str(abs(x))[::-1])  \n",
        "        # handle 32 bit overflow  \n",
        "        lowi = -2**31  \n",
        "        maxi = 2**31 - 1  \n",
        "        if i not in range(lowi, maxi):  \n",
        "            return 0\n",
        "        else:  \n",
        "            return i\n",
        "\n",
        "print(sol.reverse(123))\n",
        "print(sol.reverse(-123))\n",
        "print(sol.reverse(120))\n",
        "print(sol.reverse(-1023))\n",
        "print(sol.reverse(1023))\n",
        "print(sol.reverse(1534236469))\n"
      ],
      "execution_count": 0,
      "outputs": [
        {
          "output_type": "stream",
          "text": [
            "321\n",
            "-321\n",
            "21\n",
            "-3201\n",
            "3201\n",
            "9646324351\n",
            "2147483648\n",
            "2147483647\n"
          ],
          "name": "stdout"
        }
      ]
    },
    {
      "cell_type": "code",
      "metadata": {
        "id": "zQkR_J1PL8FU",
        "colab_type": "code",
        "outputId": "6aab6d60-ba43-480b-d143-fe0642b80b81",
        "colab": {
          "base_uri": "https://localhost:8080/",
          "height": 119
        }
      },
      "source": [
        "# 4 iteration\n",
        "class Solution:\n",
        "    def reverse(self, x: int) -> int:\n",
        "    # positive numbers  \n",
        "        if x >= 0:\n",
        "            # cast x as str then reverse it and cast it again as int\n",
        "            i =  int(str(x)[::-1])\n",
        "        # negative numbers  \n",
        "        if x < 0:\n",
        "            # cast the abs of x as str then reverse it and cast it again as int\n",
        "            # then multiply by -1\n",
        "            i = -1 * int(str(abs(x))[::-1])  \n",
        "        # handle 32 bit overflow  \n",
        "        if i.bit_length() < 32:\n",
        "            return i\n",
        "        else:  \n",
        "            return 0\n",
        "\n",
        "print(sol.reverse(123))\n",
        "print(sol.reverse(-123))\n",
        "print(sol.reverse(120))\n",
        "print(sol.reverse(-1023))\n",
        "print(sol.reverse(1023))\n",
        "print(sol.reverse(1534236469))\n"
      ],
      "execution_count": 0,
      "outputs": [
        {
          "output_type": "stream",
          "text": [
            "321\n",
            "-321\n",
            "21\n",
            "-3201\n",
            "3201\n",
            "9646324351\n"
          ],
          "name": "stdout"
        }
      ]
    }
  ]
}