{
  "nbformat": 4,
  "nbformat_minor": 0,
  "metadata": {
    "colab": {
      "name": "00013_Roman_to_Integer.ipynb",
      "provenance": [],
      "include_colab_link": true
    },
    "kernelspec": {
      "name": "python3",
      "display_name": "Python 3"
    }
  },
  "cells": [
    {
      "cell_type": "markdown",
      "metadata": {
        "id": "view-in-github",
        "colab_type": "text"
      },
      "source": [
        "<a href=\"https://colab.research.google.com/github/alehpineda/leetcode/blob/master/00013_Roman_to_Integer.ipynb\" target=\"_parent\"><img src=\"https://colab.research.google.com/assets/colab-badge.svg\" alt=\"Open In Colab\"/></a>"
      ]
    },
    {
      "cell_type": "markdown",
      "metadata": {
        "id": "5g8_FCVojdDB",
        "colab_type": "text"
      },
      "source": [
        "Roman numerals are represented by seven different symbols: I, V, X, L, C, D and M.\n",
        "\n",
        "|Symbol |Value   \t|\n",
        "|---\t|---\t|\n",
        "|I   \t|1   \t|\n",
        "|V   \t|5   \t|\n",
        "|X   \t|10   \t|\n",
        "|L   \t|50   \t|\n",
        "|C   \t|100   \t|\n",
        "|D   \t|500   \t|\n",
        "|M   \t|1000   \t|\n",
        "\n",
        "For example, two is written as II in Roman numeral, just two one's added together. Twelve is written as, XII, which is simply X + II. The number twenty seven is written as XXVII, which is XX + V + II.\n",
        "\n",
        "Roman numerals are usually written largest to smallest from left to right. However, the numeral for four is not IIII. Instead, the number four is written as IV. Because the one is before the five we subtract it making four. The same principle applies to the number nine, which is written as IX. There are six instances where subtraction is used:\n",
        "\n",
        "- I can be placed before V (5) and X (10) to make 4 and 9. \n",
        "- X can be placed before L (50) and C (100) to make 40 and 90. \n",
        "- C can be placed before D (500) and M (1000) to make 400 and 900.\n",
        "\n",
        "Given a roman numeral, convert it to an integer. Input is guaranteed to be within the range from 1 to 3999.\n",
        "\n",
        "- Example 1:\n",
        "\n",
        "  - Input: \"III\"\n",
        "  - Output: 3\n",
        "\n",
        "- Example 2:\n",
        "\n",
        "  - Input: \"IV\"\n",
        "  - Output: 4\n",
        "\n",
        "- Example 3:\n",
        "\n",
        "  - Input: \"IX\"\n",
        "  - Output: 9\n",
        "\n",
        "- Example 4:\n",
        "\n",
        "  - Input: \"LVIII\"\n",
        "  - Output: 58\n",
        "\n",
        "Explanation: L = 50, V= 5, III = 3.\n",
        "\n",
        "- Example 5:\n",
        "\n",
        "  - Input: \"MCMXCIV\"\n",
        "  - Output: 1994\n",
        "\n",
        "Explanation: M = 1000, CM = 900, XC = 90 and IV = 4."
      ]
    },
    {
      "cell_type": "code",
      "metadata": {
        "id": "CaHHFi3ejcI6",
        "colab_type": "code",
        "colab": {
          "base_uri": "https://localhost:8080/",
          "height": 102
        },
        "outputId": "931bff57-a29f-4e45-e464-310231e17e6a"
      },
      "source": [
        "# 1st iteration\n",
        "# Roman to integer\n",
        "class Solution:\n",
        "  def romanToInt(self, s: str) -> int:\n",
        "    # roman dictionary\n",
        "    roman = {\n",
        "        'I':1,\n",
        "        'V':5,\n",
        "        'X':10,\n",
        "        'L':50,\n",
        "        'C':100,\n",
        "        'D':500,\n",
        "        'M':1000\n",
        "    }\n",
        "    # roman rest dictionary\n",
        "    rest = {\n",
        "        'IV':4,\n",
        "        'IX':9,\n",
        "        'XL':40,\n",
        "        'XC':90,\n",
        "        'CD':400,\n",
        "        'CM':900\n",
        "    }\n",
        "    # empty list\n",
        "    integer = []\n",
        "\n",
        "    # for key in rest dict\n",
        "    for k in rest:\n",
        "      # if key exist in string\n",
        "      if k in s:\n",
        "        # append to list the value\n",
        "        integer.append(rest[k])\n",
        "        # Replace the key in string with ''\n",
        "        s = s.replace(k,'')\n",
        "\n",
        "    # For each in string\n",
        "    for e in s:\n",
        "      # append to list the value\n",
        "      integer.append(roman[e])\n",
        "    # return the sum of the list\n",
        "    return sum(integer)\n",
        "\n",
        "sol = Solution()\n",
        "print(sol.romanToInt('III'))\n",
        "print(sol.romanToInt('IV'))\n",
        "print(sol.romanToInt('IX'))\n",
        "print(sol.romanToInt('LVIII'))\n",
        "print(sol.romanToInt('MCMXCIV'))\n"
      ],
      "execution_count": 5,
      "outputs": [
        {
          "output_type": "stream",
          "text": [
            "3\n",
            "4\n",
            "9\n",
            "58\n",
            "1994\n"
          ],
          "name": "stdout"
        }
      ]
    },
    {
      "cell_type": "code",
      "metadata": {
        "id": "JtQnDpcQm4Ba",
        "colab_type": "code",
        "colab": {}
      },
      "source": [
        ""
      ],
      "execution_count": 0,
      "outputs": []
    }
  ]
}