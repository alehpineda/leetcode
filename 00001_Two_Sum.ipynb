{
  "nbformat": 4,
  "nbformat_minor": 0,
  "metadata": {
    "colab": {
      "name": "00001_Two_Sum.ipynb",
      "provenance": [],
      "include_colab_link": true
    },
    "kernelspec": {
      "name": "python3",
      "display_name": "Python 3"
    }
  },
  "cells": [
    {
      "cell_type": "markdown",
      "metadata": {
        "id": "view-in-github",
        "colab_type": "text"
      },
      "source": [
        "<a href=\"https://colab.research.google.com/github/alehpineda/leetcode/blob/master/00001_Two_Sum.ipynb\" target=\"_parent\"><img src=\"https://colab.research.google.com/assets/colab-badge.svg\" alt=\"Open In Colab\"/></a>"
      ]
    },
    {
      "cell_type": "markdown",
      "metadata": {
        "id": "qhDEAB2HyeRF",
        "colab_type": "text"
      },
      "source": [
        "Given an array of integers, return indices of the two numbers such that they add up to a specific target.\n",
        "\n",
        "You may assume that each input would have exactly one solution, and you may not use the same element twice.\n",
        "\n",
        "Example:\n",
        "\n",
        "Given nums = [2, 7, 11, 15], target = 9,\n",
        "\n",
        "Because nums[0] + nums[1] = 2 + 7 = 9,\n",
        "return [0, 1]."
      ]
    },
    {
      "cell_type": "code",
      "metadata": {
        "id": "Ra22g2PHxzR6",
        "colab_type": "code",
        "colab": {}
      },
      "source": [
        "nums = [1,2,3,5,7,9,11,13,17,19,23]\n",
        "target = 42\n"
      ],
      "execution_count": 0,
      "outputs": []
    },
    {
      "cell_type": "code",
      "metadata": {
        "id": "2gaTkTJ4x-ye",
        "colab_type": "code",
        "outputId": "4e4219e7-e46a-469c-dc85-c534790bbd7b",
        "colab": {
          "base_uri": "https://localhost:8080/",
          "height": 34
        }
      },
      "source": [
        "# Linear search\n",
        "def two_sum(nums, target):\n",
        "  k = []\n",
        "\n",
        "  for i in range(len(nums)):\n",
        "    for j in range(i+1,len(nums)):\n",
        "      if nums[i] + nums[j] == target:\n",
        "        k.append(i)\n",
        "        k.append(j)\n",
        "        return k\n",
        "\n",
        "print(two_sum(nums, target))"
      ],
      "execution_count": 0,
      "outputs": [
        {
          "output_type": "stream",
          "text": [
            "[9, 10]\n"
          ],
          "name": "stdout"
        }
      ]
    },
    {
      "cell_type": "code",
      "metadata": {
        "id": "HtYMH4Le2rym",
        "colab_type": "code",
        "outputId": "a1d56019-037e-4a40-9070-aa94930ee7eb",
        "colab": {
          "base_uri": "https://localhost:8080/",
          "height": 34
        }
      },
      "source": [
        "# Usando el complemento y match operators\n",
        "def two_sum_complemento(nums, target):\n",
        "  # Counter\n",
        "  k = 0\n",
        "  # For each in numbers\n",
        "  for e in nums:\n",
        "    # increment the counter\n",
        "    k += 1\n",
        "    # if the target minus the element of the list exist in the rest of the list\n",
        "    if target - e in nums[k:]:\n",
        "      # return the counter minus one, \n",
        "      # return the index of the target minus the element plus the counter\n",
        "      return(k - 1, nums[k:].index(target - e) + k)\n",
        "\n",
        "print(two_sum_complemento(nums, target))"
      ],
      "execution_count": 0,
      "outputs": [
        {
          "output_type": "stream",
          "text": [
            "(9, 10)\n"
          ],
          "name": "stdout"
        }
      ]
    }
  ]
}