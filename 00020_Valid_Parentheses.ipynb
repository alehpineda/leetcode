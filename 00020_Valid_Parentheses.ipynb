{
  "nbformat": 4,
  "nbformat_minor": 0,
  "metadata": {
    "colab": {
      "name": "00020_Valid_Parentheses.ipynb",
      "provenance": [],
      "include_colab_link": true
    },
    "kernelspec": {
      "name": "python3",
      "display_name": "Python 3"
    }
  },
  "cells": [
    {
      "cell_type": "markdown",
      "metadata": {
        "id": "view-in-github",
        "colab_type": "text"
      },
      "source": [
        "<a href=\"https://colab.research.google.com/github/alehpineda/leetcode/blob/master/00020_Valid_Parentheses.ipynb\" target=\"_parent\"><img src=\"https://colab.research.google.com/assets/colab-badge.svg\" alt=\"Open In Colab\"/></a>"
      ]
    },
    {
      "cell_type": "markdown",
      "metadata": {
        "id": "Iyt7UwdsFLcy",
        "colab_type": "text"
      },
      "source": [
        "Given a string containing just the characters '(', ')', '{', '}', '[' and ']', determine if the input string is valid.\n",
        "\n",
        "An input string is valid if:\n",
        "\n",
        "Open brackets must be closed by the same type of brackets.\n",
        "Open brackets must be closed in the correct order.\n",
        "\n",
        "### Note \n",
        "\n",
        "**An empty string is also considered valid.**\n",
        "\n",
        "- Example 1:\n",
        "\n",
        "  - Input: \"()\"\n",
        "  - Output: true\n",
        "\n",
        "- Example 2:\n",
        "\n",
        "  - Input: \"()[]{}\"\n",
        "  - Output: true\n",
        "\n",
        "- Example 3:\n",
        "\n",
        "  - Input: \"(]\"\n",
        "  - Output: false\n",
        "\n",
        "- Example 4:\n",
        "\n",
        "  - Input: \"([)]\"\n",
        "  - Output: false\n",
        "\n",
        "- Example 5:\n",
        "\n",
        "  - Input: \"{[]}\"\n",
        "  - Output: true\n"
      ]
    },
    {
      "cell_type": "code",
      "metadata": {
        "id": "BI30Il3hE5xa",
        "colab_type": "code",
        "colab": {}
      },
      "source": [
        "# 1st iteration\n",
        "# Elimination method\n",
        "'''\n",
        "In every iteration, the innermost parentheses get eliminated \n",
        "(replaced with ''). If we end up with an empty string, our initial one \n",
        "was balanced or True; otherwise, unbalanced or False.\n",
        "'''\n",
        "\n",
        "class Solution:\n",
        "    def isValid(self, s: str) -> bool:\n",
        "      # if string is empty return True\n",
        "      if s == '':\n",
        "        return True\n",
        "    \n",
        "      # Declare parentheses\n",
        "      parentheses = ['()', '[]', '{}']\n",
        "\n",
        "      # While any of the elements in parentheses exist in the string\n",
        "      while any(e in s for e in parentheses):\n",
        "        # for each element in the parentheses\n",
        "        for p in parentheses:\n",
        "          # replace the parentheses with an empty string\n",
        "          s = s.replace(p, '')\n",
        "    \n",
        "      # Return true if s is empty else false\n",
        "      return True if not s else False\n"
      ],
      "execution_count": 0,
      "outputs": []
    },
    {
      "cell_type": "code",
      "metadata": {
        "id": "YxhCIThFF_hI",
        "colab_type": "code",
        "colab": {
          "base_uri": "https://localhost:8080/",
          "height": 119
        },
        "outputId": "634221c6-9412-411f-b044-11ea9f03745b"
      },
      "source": [
        "sol = Solution()\n",
        "\n",
        "print(sol.isValid('()'))\n",
        "print(sol.isValid('[](){}'))\n",
        "print(sol.isValid('(]'))\n",
        "print(sol.isValid('([)]'))\n",
        "print(sol.isValid('{[]}'))\n",
        "print(sol.isValid(''))"
      ],
      "execution_count": 7,
      "outputs": [
        {
          "output_type": "stream",
          "text": [
            "True\n",
            "True\n",
            "False\n",
            "False\n",
            "True\n",
            "True\n"
          ],
          "name": "stdout"
        }
      ]
    },
    {
      "cell_type": "code",
      "metadata": {
        "id": "wqw9t82uI4RO",
        "colab_type": "code",
        "colab": {}
      },
      "source": [
        ""
      ],
      "execution_count": 0,
      "outputs": []
    }
  ]
}