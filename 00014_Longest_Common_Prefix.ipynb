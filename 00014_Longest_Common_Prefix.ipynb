{
  "nbformat": 4,
  "nbformat_minor": 0,
  "metadata": {
    "colab": {
      "name": "00014_Longest_Common_Prefix.ipynb",
      "provenance": [],
      "include_colab_link": true
    },
    "kernelspec": {
      "name": "python3",
      "display_name": "Python 3"
    }
  },
  "cells": [
    {
      "cell_type": "markdown",
      "metadata": {
        "id": "view-in-github",
        "colab_type": "text"
      },
      "source": [
        "<a href=\"https://colab.research.google.com/github/alehpineda/leetcode/blob/master/00014_Longest_Common_Prefix.ipynb\" target=\"_parent\"><img src=\"https://colab.research.google.com/assets/colab-badge.svg\" alt=\"Open In Colab\"/></a>"
      ]
    },
    {
      "cell_type": "markdown",
      "metadata": {
        "id": "Xaa9g6anniyY",
        "colab_type": "text"
      },
      "source": [
        "# 14. Longest Common Prefix\n",
        "\n",
        "Write a function to find the longest common prefix string amongst an array of strings.\n",
        "\n",
        "If there is no common prefix, return an empty string \"\".\n",
        "\n",
        "- Example 1:\n",
        "\n",
        "  - Input: [\"flower\",\"flow\",\"flight\"]\n",
        "  - Output: \"fl\"\n",
        "\n",
        "- Example 2:\n",
        "\n",
        "  - Input: [\"dog\",\"racecar\",\"car\"]\n",
        "  - Output: \"\"\n",
        "\n",
        "Explanation: There is no common prefix among the input strings.\n",
        "\n",
        "### Note:\n",
        "\n",
        "All given inputs are in lowercase letters a-z.\n"
      ]
    },
    {
      "cell_type": "code",
      "metadata": {
        "id": "UXaMdyBrngbx",
        "colab_type": "code",
        "colab": {}
      },
      "source": [
        "# 1st Iteration\n",
        "# use substrings, find(), for, and while\n",
        "\"\"\"\n",
        "Use find(), start with the first word in the input array as the longest \n",
        "prefix. Horizontal scanning where the outer loop is for each individual \n",
        "remaining words, inner loop for each individual character of the word, \n",
        "decrement the length of the longest prefix. \n",
        "O(S) time where S is the total number of characters for all words in \n",
        "the array, O(1) space;\n",
        "\"\"\"\n",
        "from typing import  List\n",
        "\n",
        "class Solution:\n",
        "  def longestCommonPrefix(self, strs: List[str]) -> str:\n",
        "    # longest prefix, first element of list\n",
        "    longest_pre = strs[0]\n",
        "    # for each element in the list\n",
        "    for e in range(1,len(strs)):\n",
        "      # while find longest prefix in elemenst\n",
        "      # diferent than 0.\n",
        "      while(strs[e].find(longest_pre) != 0):\n",
        "        # Do, slice the last element of the\n",
        "        # longest prefix\n",
        "        longest_pre = longest_pre[:-1]\n",
        "        # if the len of longest prefix equals 0\n",
        "        # There is no common prefix\n",
        "        if len(longest_pre) == 0:\n",
        "          # return empty string\n",
        "          return ''\n",
        "    # return the longest prefix\n",
        "    return longest_pre\n"
      ],
      "execution_count": 0,
      "outputs": []
    },
    {
      "cell_type": "code",
      "metadata": {
        "id": "yGaOEMeQzILK",
        "colab_type": "code",
        "colab": {
          "base_uri": "https://localhost:8080/",
          "height": 68
        },
        "outputId": "62634f6d-a839-4309-e1d9-1e1c900a173e"
      },
      "source": [
        "# Test\n",
        "sol = Solution()\n",
        "\n",
        "print(sol.longestCommonPrefix([\"flower\",\"flow\",\"flight\"]))\n",
        "print(sol.longestCommonPrefix([\"dog\",\"racecar\",\"car\"]))\n",
        "print(sol.longestCommonPrefix([]))"
      ],
      "execution_count": 22,
      "outputs": [
        {
          "output_type": "stream",
          "text": [
            "fl\n",
            "\n",
            "\n"
          ],
          "name": "stdout"
        }
      ]
    },
    {
      "cell_type": "code",
      "metadata": {
        "id": "cREha9M73wXC",
        "colab_type": "code",
        "colab": {}
      },
      "source": [
        "# 2nd iteration\n",
        "\"\"\"\n",
        "Use min() and max() on array of strings. These two functions \n",
        "return the first and last words of the sorted input array \n",
        "(lexicographically). If the character in min_s is in max_s \n",
        "at the corresponding index, the character must be in the \n",
        "remaining words at the corresponding index as well. This is \n",
        "because the input array of words have already been sorted;\n",
        "\"\"\"\n",
        "\n",
        "from typing import  List\n",
        "\n",
        "class Solution1:\n",
        "  def longestCommonPrefix(self, strs: List[str]) -> str:\n",
        "    # If the list is empty\n",
        "    if len(strs) == 0:\n",
        "      # return empty string\n",
        "      return ''\n",
        "    # min function returns the first value of the \"sorted\"\n",
        "    # list by lexicon.\n",
        "    min_s = min(strs)\n",
        "    # max function returns the first value of the \"sorted\"\n",
        "    # list by lexicon.\n",
        "    max_s = max(strs)\n",
        "    # Check if the min is empty string\n",
        "    # '' is falsy\n",
        "    if not min_s:\n",
        "      # return empty string\n",
        "      return ''\n",
        "    \n",
        "    # for each element in range of len of minimum\n",
        "    for e in range(len(min_s)):\n",
        "      # if the max is not equal to min\n",
        "      if max_s[e] != min_s[e]:\n",
        "        # return the max string till e-1\n",
        "        return max_s[:e]\n",
        "    \n",
        "    # if the for ends means the min and max are equal\n",
        "    # Return the min\n",
        "    return min_s[:]\n"
      ],
      "execution_count": 0,
      "outputs": []
    },
    {
      "cell_type": "code",
      "metadata": {
        "id": "tXRM14Ga39tY",
        "colab_type": "code",
        "colab": {
          "base_uri": "https://localhost:8080/",
          "height": 68
        },
        "outputId": "248d546d-771c-4038-e4c9-aea5f3807360"
      },
      "source": [
        "# Test\n",
        "sol1 = Solution1()\n",
        "\n",
        "print(sol1.longestCommonPrefix([\"flower\",\"flow\",\"flight\"]))\n",
        "print(sol1.longestCommonPrefix([\"dog\",\"racecar\",\"car\"]))\n",
        "print(sol1.longestCommonPrefix([]))\n"
      ],
      "execution_count": 34,
      "outputs": [
        {
          "output_type": "stream",
          "text": [
            "fl\n",
            "\n",
            "\n"
          ],
          "name": "stdout"
        }
      ]
    }
  ]
}