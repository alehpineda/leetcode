{
  "nbformat": 4,
  "nbformat_minor": 0,
  "metadata": {
    "colab": {
      "name": "00121_Best_Time_to_Buy_and_Sell_Stock.ipynb",
      "provenance": [],
      "collapsed_sections": [],
      "include_colab_link": true
    },
    "kernelspec": {
      "name": "python3",
      "display_name": "Python 3"
    }
  },
  "cells": [
    {
      "cell_type": "markdown",
      "metadata": {
        "id": "view-in-github",
        "colab_type": "text"
      },
      "source": [
        "<a href=\"https://colab.research.google.com/github/alehpineda/leetcode/blob/master/00121_Best_Time_to_Buy_and_Sell_Stock.ipynb\" target=\"_parent\"><img src=\"https://colab.research.google.com/assets/colab-badge.svg\" alt=\"Open In Colab\"/></a>"
      ]
    },
    {
      "cell_type": "markdown",
      "metadata": {
        "id": "x64i3cobTebS",
        "colab_type": "text"
      },
      "source": [
        "Say you have an array for which the ith element is the price of a given stock on day i.\n",
        "\n",
        "If you were only permitted to complete at most one transaction (i.e., buy one and sell one share of the stock), design an algorithm to find the maximum profit.\n",
        "\n",
        "Note that you cannot sell a stock before you buy one.\n",
        "\n",
        "- Example 1:\n",
        "\n",
        "  - Input: [7,1,5,3,6,4]\n",
        "  - Output: 5\n",
        "\n",
        "Explanation: Buy on day 2 (price = 1) and sell on day 5 (price = 6), profit = 6-1 = 5.\n",
        "             Not 7-1 = 6, as selling price needs to be larger than buying price.\n",
        "\n",
        "- Example 2:\n",
        "\n",
        "  - Input: [7,6,4,3,1]\n",
        "  - Output: 0\n",
        "\n",
        "Explanation: In this case, no transaction is done, i.e. max profit = 0."
      ]
    },
    {
      "cell_type": "code",
      "metadata": {
        "id": "d7T4uS5pVY9o",
        "colab_type": "code",
        "colab": {}
      },
      "source": [
        "# 1st iteration\n",
        "# works but takes a lot of time\n",
        "# Need to improve\n",
        "\n",
        "from typing import List\n",
        "\n",
        "class Solution:\n",
        "    def maxProfit(self, prices: List[int]) -> int:\n",
        "        size = len(prices)\n",
        "        if size == 0 or size == 1:\n",
        "            return 0\n",
        "        max_profit = prices[1] - prices[0]\n",
        "    \n",
        "        for i in range( 0, size ):\n",
        "            for j in range( i+1, size ):\n",
        "                if(prices[j] - prices[i] > max_profit):\n",
        "                    max_profit = prices[j] - prices[i]\n",
        "        \n",
        "        if max_profit < 0:\n",
        "            return 0 \n",
        "        \n",
        "        return max_profit\n"
      ],
      "execution_count": 0,
      "outputs": []
    },
    {
      "cell_type": "code",
      "metadata": {
        "id": "dF6mE_IzYHJe",
        "colab_type": "code",
        "colab": {
          "base_uri": "https://localhost:8080/",
          "height": 68
        },
        "outputId": "40f7eb3f-951e-41a1-875e-e3046dafcdf3"
      },
      "source": [
        "sol = Solution()\n",
        "\n",
        "print(sol.maxProfit([7,1,5,3,6,4]))\n",
        "print(sol.maxProfit([7,6,4,3,1]))\n",
        "print(sol.maxProfit([2, 3, 10, 6, 4, 8, 1]))\n"
      ],
      "execution_count": 21,
      "outputs": [
        {
          "output_type": "stream",
          "text": [
            "5\n",
            "0\n",
            "8\n"
          ],
          "name": "stdout"
        }
      ]
    },
    {
      "cell_type": "code",
      "metadata": {
        "id": "87OWlS-qca6R",
        "colab_type": "code",
        "colab": {}
      },
      "source": [
        "# 2nd iteration\n",
        "# worked \n",
        "\n",
        "from typing import List\n",
        "\n",
        "class Solution:\n",
        "    def maxProfit(self, prices: List[int]) -> int:\n",
        "        size = len(prices)\n",
        "        if size == 0 or size == 1:\n",
        "            return 0\n",
        "\n",
        "        # initialize result\n",
        "        max_profit = -1\n",
        "\n",
        "        # Initialize max element from  \n",
        "        # right side \n",
        "        maxRight = prices[size - 1]\n",
        "\n",
        "        for i in range(size-2, -1, -1):\n",
        "          if prices[i] > maxRight:\n",
        "            maxRight = prices[i]\n",
        "          else:\n",
        "            diff = maxRight - prices[i]\n",
        "            if diff > max_profit:\n",
        "              max_profit = diff\n",
        "\n",
        "        if max_profit < 0:\n",
        "            return 0 \n",
        "        \n",
        "        return max_profit"
      ],
      "execution_count": 0,
      "outputs": []
    },
    {
      "cell_type": "code",
      "metadata": {
        "id": "uu67ELPZd9fg",
        "colab_type": "code",
        "colab": {
          "base_uri": "https://localhost:8080/",
          "height": 68
        },
        "outputId": "36f97637-5632-42ed-8117-f47620ba9847"
      },
      "source": [
        "sol = Solution()\n",
        "\n",
        "print(sol.maxProfit([7,1,5,3,6,4]))\n",
        "print(sol.maxProfit([7,6,4,3,1]))\n",
        "print(sol.maxProfit([2, 3, 10, 6, 4, 8, 1]))"
      ],
      "execution_count": 23,
      "outputs": [
        {
          "output_type": "stream",
          "text": [
            "5\n",
            "0\n",
            "8\n"
          ],
          "name": "stdout"
        }
      ]
    },
    {
      "cell_type": "code",
      "metadata": {
        "id": "41YoQGgTeku0",
        "colab_type": "code",
        "colab": {}
      },
      "source": [
        "# best solution\n",
        "class Solution:\n",
        "    def maxProfit(self, prices: List[int]) -> int:\n",
        "        if not prices:\n",
        "            return 0\n",
        "        max_profit = 0\n",
        "        min_price = prices[0]\n",
        "        for i in range(1, len(prices)):\n",
        "            if prices[i] < min_price:\n",
        "                min_price = prices[i]\n",
        "            if prices[i] - min_price > max_profit:\n",
        "                max_profit = prices[i] - min_price           \n",
        "        return max_profit"
      ],
      "execution_count": 0,
      "outputs": []
    }
  ]
}