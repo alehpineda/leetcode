{
  "nbformat": 4,
  "nbformat_minor": 0,
  "metadata": {
    "colab": {
      "name": "00008_String_to_Integer_Atoi.ipynb",
      "provenance": [],
      "collapsed_sections": [],
      "include_colab_link": true
    },
    "kernelspec": {
      "name": "python3",
      "display_name": "Python 3"
    }
  },
  "cells": [
    {
      "cell_type": "markdown",
      "metadata": {
        "id": "view-in-github",
        "colab_type": "text"
      },
      "source": [
        "<a href=\"https://colab.research.google.com/github/alehpineda/leetcode/blob/master/00008_String_to_Integer_Atoi.ipynb\" target=\"_parent\"><img src=\"https://colab.research.google.com/assets/colab-badge.svg\" alt=\"Open In Colab\"/></a>"
      ]
    },
    {
      "cell_type": "code",
      "metadata": {
        "id": "JZBV_ZGrq73w",
        "colab_type": "code",
        "colab": {
          "base_uri": "https://localhost:8080/",
          "height": 374
        },
        "outputId": "241937fe-f6fa-47e0-98dc-2d87ee6f3316"
      },
      "source": [
        "import re\n",
        "# 1st iteration\n",
        "  def myAtoi(s: str) -> int:\n",
        "      s = s.strip()\n",
        "      if s == '' or s[0].isalpha():\n",
        "          return 0\n",
        "      s = s.split()\n",
        "      num = 0\n",
        "      print('string:', s)\n",
        "      for e in s:\n",
        "          # j is a list\n",
        "          j = re.findall(r'^[+-]?[0-9]*', e)\n",
        "          try:\n",
        "              if int(j[0]):\n",
        "                  num = int(j[0])\n",
        "              break\n",
        "          except ValueError:\n",
        "              pass\n",
        "\n",
        "      #print('after re:', num, type(num))\n",
        "      \n",
        "      if num.bit_length() < 32:\n",
        "          return num\n",
        "      else:\n",
        "          if num < 0: \n",
        "              return -2147483648\n",
        "          else:\n",
        "              return 2147483647\n",
        "\n",
        "print(myAtoi('42'))\n",
        "print(myAtoi('-42'))\n",
        "print(myAtoi(\"4193 with words\"))\n",
        "print(myAtoi(\"words and 987\"))\n",
        "print(myAtoi(\"-91283472332\"))\n",
        "print(myAtoi(\"+3.141591\"))\n",
        "print(myAtoi(\"-3.141591\"))\n",
        "print(myAtoi(\".1\"))\n",
        "print(myAtoi(\"  -0012a42\"))\n",
        "print(myAtoi(\"   +0 123\"))\n",
        "print(myAtoi(\"+-2\"))\n"
      ],
      "execution_count": 92,
      "outputs": [
        {
          "output_type": "stream",
          "text": [
            "string: ['42']\n",
            "42\n",
            "string: ['-42']\n",
            "-42\n",
            "string: ['4193', 'with', 'words']\n",
            "4193\n",
            "0\n",
            "string: ['-91283472332']\n",
            "-2147483648\n",
            "string: ['+3.141591']\n",
            "3\n",
            "string: ['-3.141591']\n",
            "-3\n",
            "string: ['.1']\n",
            "0\n",
            "string: ['-0012a42']\n",
            "-12\n",
            "string: ['+0', '123']\n",
            "0\n",
            "string: ['+-2']\n",
            "0\n"
          ],
          "name": "stdout"
        }
      ]
    },
    {
      "cell_type": "code",
      "metadata": {
        "id": "b9o0auVIr8Il",
        "colab_type": "code",
        "colab": {
          "base_uri": "https://localhost:8080/",
          "height": 34
        },
        "outputId": "9e477e87-f7e8-478a-d236-9852be0a2376"
      },
      "source": [
        "l = ['asdf', '1234', 'asfd']\n",
        "for e in l:\n",
        "  try:\n",
        "    if int(e):\n",
        "      print(e)\n",
        "  except ValueError:\n",
        "    pass\n"
      ],
      "execution_count": 6,
      "outputs": [
        {
          "output_type": "stream",
          "text": [
            "1234\n"
          ],
          "name": "stdout"
        }
      ]
    },
    {
      "cell_type": "code",
      "metadata": {
        "id": "US6I10EAufa6",
        "colab_type": "code",
        "colab": {
          "base_uri": "https://localhost:8080/",
          "height": 34
        },
        "outputId": "e123b7bb-1a9c-41c9-db08-575101ed459e"
      },
      "source": [
        "import re\n",
        "print(re.findall(r'^[+-]?[0-9]*', '+3.15'))"
      ],
      "execution_count": 87,
      "outputs": [
        {
          "output_type": "stream",
          "text": [
            "['+3']\n"
          ],
          "name": "stdout"
        }
      ]
    },
    {
      "cell_type": "code",
      "metadata": {
        "id": "KfklSua2yc61",
        "colab_type": "code",
        "colab": {
          "base_uri": "https://localhost:8080/",
          "height": 34
        },
        "outputId": "b7a94e93-2bbf-4e7e-e3a2-2ce600acaf68"
      },
      "source": [
        "float('+1')"
      ],
      "execution_count": 84,
      "outputs": [
        {
          "output_type": "execute_result",
          "data": {
            "text/plain": [
              "1.0"
            ]
          },
          "metadata": {
            "tags": []
          },
          "execution_count": 84
        }
      ]
    },
    {
      "cell_type": "code",
      "metadata": {
        "id": "7cO0oKSrDtoh",
        "colab_type": "code",
        "colab": {
          "base_uri": "https://localhost:8080/",
          "height": 204
        },
        "outputId": "b83b690b-45b8-4e31-99f9-7f21ccd583ad"
      },
      "source": [
        "import re\n",
        "from math import pow\n",
        "\n",
        "INT_MAX = int(pow(2,31)) - 1\n",
        "INT_MIN = -int(pow(2,31))\n",
        "\n",
        "    def myAtoi(s: str) -> int:\n",
        "        match = re.findall(r'^\\s*([+\\-]?\\d+)', s)\n",
        "\n",
        "        if not match:\n",
        "            return 0\n",
        "        \n",
        "        num = int(match[0])\n",
        "        \n",
        "        if num < INT_MIN:\n",
        "            return INT_MIN\n",
        "        \n",
        "        if num > INT_MAX:\n",
        "            return INT_MAX\n",
        "        \n",
        "        return num\n",
        "\n",
        "print(myAtoi('42'))\n",
        "print(myAtoi('-42'))\n",
        "print(myAtoi(\"4193 with words\"))\n",
        "print(myAtoi(\"words and 987\"))\n",
        "print(myAtoi(\"-91283472332\"))\n",
        "print(myAtoi(\"+3.141591\"))\n",
        "print(myAtoi(\"-3.141591\"))\n",
        "print(myAtoi(\".1\"))\n",
        "print(myAtoi(\"  -0012a42\"))\n",
        "print(myAtoi(\"   +0 123\"))\n",
        "print(myAtoi(\"+-2\"))"
      ],
      "execution_count": 100,
      "outputs": [
        {
          "output_type": "stream",
          "text": [
            "42\n",
            "-42\n",
            "4193\n",
            "0\n",
            "-2147483648\n",
            "3\n",
            "-3\n",
            "0\n",
            "-12\n",
            "0\n",
            "0\n"
          ],
          "name": "stdout"
        }
      ]
    },
    {
      "cell_type": "code",
      "metadata": {
        "id": "h14pgxU8LRu_",
        "colab_type": "code",
        "colab": {
          "base_uri": "https://localhost:8080/",
          "height": 34
        },
        "outputId": "b20daffd-2acd-46d7-d423-95c1ccd7d13d"
      },
      "source": [
        "bool([])"
      ],
      "execution_count": 99,
      "outputs": [
        {
          "output_type": "execute_result",
          "data": {
            "text/plain": [
              "False"
            ]
          },
          "metadata": {
            "tags": []
          },
          "execution_count": 99
        }
      ]
    },
    {
      "cell_type": "code",
      "metadata": {
        "id": "SNs_D6oZPK4F",
        "colab_type": "code",
        "colab": {}
      },
      "source": [
        "    def myAtoi(self, str: str) -> int:\n",
        "        m = re.search(r\"^(([+-]\\d+)|\\d+)\", str.strip())\n",
        "        if m:\n",
        "            ans = int(m.group(1))\n",
        "        else:\n",
        "            ans = 0\n",
        "        if ans < -2**31:\n",
        "            return -2**31\n",
        "        elif ans > 2**31 - 1:\n",
        "            return 2**31 - 1\n",
        "        else:\n",
        "            return ans"
      ],
      "execution_count": 0,
      "outputs": []
    }
  ]
}